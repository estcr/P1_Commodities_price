{
 "cells": [
  {
   "cell_type": "code",
   "execution_count": 1,
   "metadata": {},
   "outputs": [],
   "source": [
    "import p1_functions as f\n",
    "import pandas as pd"
   ]
  },
  {
   "cell_type": "code",
   "execution_count": 2,
   "metadata": {},
   "outputs": [],
   "source": [
    "#Obteción de información de Yahoo finance\n",
    "df=f.comm_price_df() #Construcción de dataframe mediante el llamado a la función commodities price dataframe: comm_price_df()"
   ]
  },
  {
   "cell_type": "code",
   "execution_count": 3,
   "metadata": {},
   "outputs": [
    {
     "name": "stdout",
     "output_type": "stream",
     "text": [
      "Reporte de valores nulos antes de la limpieza:\n",
      "date           0\n",
      "oro            0\n",
      "plata          0\n",
      "petroleo       0\n",
      "gas_natural    0\n",
      "dtype: int64\n",
      "\n",
      "\n",
      "\n",
      "No se han rellenado los valores nulos.\n",
      "\n",
      "Se eliminaron las filas con al menos un valor nulo.\n",
      "Cantidad de datos antes de la limpieza: 248 filas.\n",
      "Cantidad de datos después de la limpieza: 248 filas.\n",
      "Se eliminaron 0 filas con valores nulos.\n"
     ]
    }
   ],
   "source": [
    "df=f.renombrar_columnas(df) #Estandarizacion a minúsculas, no espacios ni acentos de nombres de columnas\n",
    "df=f.estandarizar_fechas(df) #Estandarización del formato de fecha\n",
    "df=f.limpiar_dataframe(df) # Limpieza de los valores en el dataframe y resultados del proceso"
   ]
  },
  {
   "cell_type": "code",
   "execution_count": 4,
   "metadata": {},
   "outputs": [],
   "source": [
    "df=f.indices_precios_comm(df) #Cálculo y adición de columnas para índicies de los precios de los commodities"
   ]
  },
  {
   "cell_type": "markdown",
   "metadata": {},
   "source": [
    "#### Importanción y limpieza de datos gubernamentales en .csv de México"
   ]
  },
  {
   "cell_type": "code",
   "execution_count": 5,
   "metadata": {},
   "outputs": [
    {
     "name": "stdout",
     "output_type": "stream",
     "text": [
      "Total de valores NaN antes de la limpieza: 576\n",
      "Total de valores NaN después de eliminar filas: 0\n",
      "\n",
      "Cantidad de datos antes de la limpieza: 658 filas\n",
      "Cantidad de datos después de la limpieza: 514 filas\n"
     ]
    }
   ],
   "source": [
    "df_incp=pd.read_csv(\"Data\\INCP.csv\") #Lee archivo .csv con datos del Indice Nacional de Precios al COnsumidor (MX)\n",
    "df_incp=f.renombrar_columnas(df_incp) #Elimina espacios y mayúsculas de nombres de columnas\n",
    "df_incp=f.renombrar_columnas_incp(df_incp) #Cambia nombres de columnas a nombres especificados dentro de la función\n",
    "df_incp=f.estandarizar_fechas(df_incp) #Estandariza formato de los valores en la columna fecha\n",
    "df_incp=f.limpiar_csv(df_incp)\n"
   ]
  },
  {
   "cell_type": "markdown",
   "metadata": {},
   "source": [
    "#### Importanción y limpieza de datos gubernamentales en .csv de España"
   ]
  },
  {
   "cell_type": "code",
   "execution_count": 6,
   "metadata": {},
   "outputs": [
    {
     "name": "stdout",
     "output_type": "stream",
     "text": [
      "Total de valores NaN antes de la limpieza: 0\n",
      "Total de valores NaN después de eliminar filas: 0\n",
      "\n",
      "Cantidad de datos antes de la limpieza: 274 filas\n",
      "Cantidad de datos después de la limpieza: 274 filas\n"
     ]
    }
   ],
   "source": [
    "df_ipc=pd.read_csv(\"Data\\IPC.csv\") #Lee archivo .csv con datos del Indice Nacional de Precios al COnsumidor (MX)\n",
    "df_ipc=f.renombrar_columnas(df_ipc) #Elimina espacios y mayúsculas de nombres de columnas\n",
    "df_ipc=f.renombrar_columnas_icp(df_ipc) #Cambia nombres de columnas a nombres especificados dentro de la función\n",
    "df_ipc=f.estandarizar_fechas(df_ipc) #Estandariza formato de los valores en la columna fecha\n",
    "df_ipc=f.limpiar_csv(df_ipc)"
   ]
  },
  {
   "cell_type": "markdown",
   "metadata": {},
   "source": [
    "#### Detección definición de límites de fechas para análisis y unión de los datos en un único dataframe"
   ]
  },
  {
   "cell_type": "code",
   "execution_count": null,
   "metadata": {},
   "outputs": [
    {
     "name": "stdout",
     "output_type": "stream",
     "text": [
      "Fecha límite menor:2002-01-01 00:00:00 \n",
      " Fecha límite mayor: 2024-10-01 00:00:00\n"
     ]
    }
   ],
   "source": [
    "f.fechas_limite(df,df_incp,df_ipc) #Función para calcular los límites de fecha para los tres dataframe\n",
    "#Estos límites justifican la intersección de los dataframe."
   ]
  },
  {
   "cell_type": "code",
   "execution_count": null,
   "metadata": {},
   "outputs": [
    {
     "name": "stdout",
     "output_type": "stream",
     "text": [
      "Cantidad de filas en el DataFrame 'df1' antes de la unión: 248\n",
      "Cantidad de filas en el DataFrame 'df2' antes de la unión: 514\n",
      "Cantidad de filas en el DataFrame resultante después de la unión: 248 \n",
      "\n",
      "Cantidad de filas en el DataFrame 'df1' antes de la unión: 248\n",
      "Cantidad de filas en el DataFrame 'df2' antes de la unión: 274\n",
      "Cantidad de filas en el DataFrame resultante después de la unión: 235 \n",
      "\n"
     ]
    },
    {
     "data": {
      "text/html": [
       "<div>\n",
       "<style scoped>\n",
       "    .dataframe tbody tr th:only-of-type {\n",
       "        vertical-align: middle;\n",
       "    }\n",
       "\n",
       "    .dataframe tbody tr th {\n",
       "        vertical-align: top;\n",
       "    }\n",
       "\n",
       "    .dataframe thead th {\n",
       "        text-align: right;\n",
       "    }\n",
       "</style>\n",
       "<table border=\"1\" class=\"dataframe\">\n",
       "  <thead>\n",
       "    <tr style=\"text-align: right;\">\n",
       "      <th></th>\n",
       "      <th>date</th>\n",
       "      <th>oro</th>\n",
       "      <th>plata</th>\n",
       "      <th>petroleo</th>\n",
       "      <th>gas_natural</th>\n",
       "      <th>indice_oro</th>\n",
       "      <th>indice_plata</th>\n",
       "      <th>indice_petroleo</th>\n",
       "      <th>indice_gas_natural</th>\n",
       "      <th>indice_general_mx</th>\n",
       "      <th>alimentos_bebidas_mx</th>\n",
       "      <th>vivienda_mx</th>\n",
       "      <th>educacion_mx</th>\n",
       "      <th>transporte_mx</th>\n",
       "      <th>indice_general_es</th>\n",
       "      <th>alimentos_bebidas_es</th>\n",
       "      <th>vivienda_es</th>\n",
       "      <th>educacion_es</th>\n",
       "      <th>transporte_es</th>\n",
       "    </tr>\n",
       "  </thead>\n",
       "  <tbody>\n",
       "    <tr>\n",
       "      <th>232</th>\n",
       "      <td>2024-07-01</td>\n",
       "      <td>2426.500000</td>\n",
       "      <td>28.778000</td>\n",
       "      <td>77.910004</td>\n",
       "      <td>2.036</td>\n",
       "      <td>135.331846</td>\n",
       "      <td>155.212768</td>\n",
       "      <td>198.395729</td>\n",
       "      <td>116.276411</td>\n",
       "      <td>136.003</td>\n",
       "      <td>152.245686</td>\n",
       "      <td>119.29414</td>\n",
       "      <td>127.651171</td>\n",
       "      <td>127.121378</td>\n",
       "      <td>115.660</td>\n",
       "      <td>129.058</td>\n",
       "      <td>106.054</td>\n",
       "      <td>105.384</td>\n",
       "      <td>113.440</td>\n",
       "    </tr>\n",
       "    <tr>\n",
       "      <th>233</th>\n",
       "      <td>2024-08-01</td>\n",
       "      <td>2493.800049</td>\n",
       "      <td>28.731001</td>\n",
       "      <td>73.550003</td>\n",
       "      <td>2.127</td>\n",
       "      <td>139.085335</td>\n",
       "      <td>154.959281</td>\n",
       "      <td>187.293105</td>\n",
       "      <td>121.473446</td>\n",
       "      <td>136.013</td>\n",
       "      <td>152.663416</td>\n",
       "      <td>119.603121</td>\n",
       "      <td>129.451806</td>\n",
       "      <td>127.650734</td>\n",
       "      <td>115.707</td>\n",
       "      <td>128.595</td>\n",
       "      <td>106.758</td>\n",
       "      <td>105.405</td>\n",
       "      <td>112.565</td>\n",
       "    </tr>\n",
       "    <tr>\n",
       "      <th>234</th>\n",
       "      <td>2024-10-01</td>\n",
       "      <td>2738.300049</td>\n",
       "      <td>32.653000</td>\n",
       "      <td>69.260002</td>\n",
       "      <td>2.707</td>\n",
       "      <td>152.721698</td>\n",
       "      <td>176.112395</td>\n",
       "      <td>176.368733</td>\n",
       "      <td>154.597370</td>\n",
       "      <td>136.828</td>\n",
       "      <td>153.295492</td>\n",
       "      <td>120.229015</td>\n",
       "      <td>133.153342</td>\n",
       "      <td>128.159614</td>\n",
       "      <td>115.726</td>\n",
       "      <td>130.058</td>\n",
       "      <td>106.616</td>\n",
       "      <td>107.708</td>\n",
       "      <td>110.802</td>\n",
       "    </tr>\n",
       "  </tbody>\n",
       "</table>\n",
       "</div>"
      ],
      "text/plain": [
       "          date          oro      plata   petroleo  gas_natural  indice_oro  \\\n",
       "232 2024-07-01  2426.500000  28.778000  77.910004        2.036  135.331846   \n",
       "233 2024-08-01  2493.800049  28.731001  73.550003        2.127  139.085335   \n",
       "234 2024-10-01  2738.300049  32.653000  69.260002        2.707  152.721698   \n",
       "\n",
       "     indice_plata  indice_petroleo  indice_gas_natural  indice_general_mx  \\\n",
       "232    155.212768       198.395729          116.276411            136.003   \n",
       "233    154.959281       187.293105          121.473446            136.013   \n",
       "234    176.112395       176.368733          154.597370            136.828   \n",
       "\n",
       "    alimentos_bebidas_mx vivienda_mx educacion_mx transporte_mx  \\\n",
       "232           152.245686   119.29414   127.651171    127.121378   \n",
       "233           152.663416  119.603121   129.451806    127.650734   \n",
       "234           153.295492  120.229015   133.153342    128.159614   \n",
       "\n",
       "     indice_general_es  alimentos_bebidas_es  vivienda_es  educacion_es  \\\n",
       "232            115.660               129.058      106.054       105.384   \n",
       "233            115.707               128.595      106.758       105.405   \n",
       "234            115.726               130.058      106.616       107.708   \n",
       "\n",
       "     transporte_es  \n",
       "232        113.440  \n",
       "233        112.565  \n",
       "234        110.802  "
      ]
     },
     "execution_count": 8,
     "metadata": {},
     "output_type": "execute_result"
    }
   ],
   "source": [
    "df_final=f.unir_dataframes(df,df_incp) #Unión de dataframe precios de commodities y datos incp\n",
    "df_final=f.unir_dataframes(df_final,df_ipc) #Unicón de dataframe anterior y datos ipc"
   ]
  },
  {
   "cell_type": "markdown",
   "metadata": {},
   "source": [
    "# FUENTES"
   ]
  }
 ],
 "metadata": {
  "kernelspec": {
   "display_name": "en_p1",
   "language": "python",
   "name": "python3"
  },
  "language_info": {
   "codemirror_mode": {
    "name": "ipython",
    "version": 3
   },
   "file_extension": ".py",
   "mimetype": "text/x-python",
   "name": "python",
   "nbconvert_exporter": "python",
   "pygments_lexer": "ipython3",
   "version": "3.11.10"
  }
 },
 "nbformat": 4,
 "nbformat_minor": 2
}
