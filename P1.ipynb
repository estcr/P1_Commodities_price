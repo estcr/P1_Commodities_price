{
 "cells": [
  {
   "cell_type": "markdown",
   "metadata": {},
   "source": [
    "## Recuperación y limpieza de datos. Construcción de dataframe general.\n",
    "#### En este notbook se muestra el proceso de construcción del dataframe, desde la obtención de datos de diferentes fuentes, la limpieza y estandarización de información, y la integración de dataframes."
   ]
  },
  {
   "cell_type": "code",
   "execution_count": 1,
   "metadata": {},
   "outputs": [],
   "source": [
    "#Importación de funciones y librerías requeridas\n",
    "import p1_functions as f\n",
    "import pandas as pd"
   ]
  },
  {
   "cell_type": "code",
   "execution_count": 2,
   "metadata": {},
   "outputs": [],
   "source": [
    "#Obteción de información sobre precios de commodities mediante API de Yahoo finance\n",
    "df=f.comm_price_df() #Construcción de dataframe mediante el llamado a la función commodities price dataframe: comm_price_df()"
   ]
  },
  {
   "cell_type": "code",
   "execution_count": 3,
   "metadata": {},
   "outputs": [
    {
     "name": "stdout",
     "output_type": "stream",
     "text": [
      "Reporte de valores nulos antes de la limpieza:\n",
      "date           0\n",
      "oro            0\n",
      "plata          0\n",
      "petroleo       0\n",
      "gas_natural    0\n",
      "dtype: int64\n",
      "\n",
      "\n",
      "\n",
      "Se eliminaron las filas con al menos un valor nulo.\n",
      "Cantidad de datos antes de la limpieza: 290 filas.\n",
      "Cantidad de datos después de la limpieza: 290 filas.\n",
      "Se eliminaron 0 filas con valores nulos.\n"
     ]
    }
   ],
   "source": [
    "df=f.renombrar_columnas(df) #Estandarizacion a minúsculas, no espacios ni acentos de nombres de columnas\n",
    "df=f.estandarizar_fechas(df) #Estandarización del formato de fecha\n",
    "df=f.convertir_columnas_a_float(df,df.columns[1:].tolist()) #Convierte los valores de las columnas del dataframe a float, exceptuando la primera columna de fecha\n",
    "df=f.completar_columnas_interpolacion(df)\n",
    "df=f.limpiar_dataframe(df) # Limpieza de los valores en el dataframe y resultados del proceso"
   ]
  },
  {
   "cell_type": "code",
   "execution_count": 4,
   "metadata": {},
   "outputs": [],
   "source": [
    "df=f.indices_precios_comm(df) #Cálculo y adición de columnas para índicies de los precios de los commodities"
   ]
  },
  {
   "cell_type": "code",
   "execution_count": 5,
   "metadata": {},
   "outputs": [
    {
     "name": "stdout",
     "output_type": "stream",
     "text": [
      "<class 'pandas.core.frame.DataFrame'>\n",
      "RangeIndex: 290 entries, 0 to 289\n",
      "Data columns (total 9 columns):\n",
      " #   Column              Non-Null Count  Dtype         \n",
      "---  ------              --------------  -----         \n",
      " 0   date                290 non-null    datetime64[ns]\n",
      " 1   oro                 290 non-null    float64       \n",
      " 2   plata               290 non-null    float64       \n",
      " 3   petroleo            290 non-null    float64       \n",
      " 4   gas_natural         290 non-null    float64       \n",
      " 5   indice_oro          290 non-null    float64       \n",
      " 6   indice_plata        290 non-null    float64       \n",
      " 7   indice_petroleo     290 non-null    float64       \n",
      " 8   indice_gas_natural  290 non-null    float64       \n",
      "dtypes: datetime64[ns](1), float64(8)\n",
      "memory usage: 20.5 KB\n"
     ]
    }
   ],
   "source": [
    "df.info()"
   ]
  },
  {
   "cell_type": "markdown",
   "metadata": {},
   "source": [
    "#### Importanción y limpieza de datos gubernamentales en .csv de México"
   ]
  },
  {
   "cell_type": "code",
   "execution_count": 6,
   "metadata": {},
   "outputs": [
    {
     "name": "stdout",
     "output_type": "stream",
     "text": [
      "Total de valores NaN antes de la limpieza: 576\n",
      "Total de valores NaN después de eliminar filas: 0\n",
      "\n",
      "Cantidad de datos antes de la limpieza: 658 filas\n",
      "Cantidad de datos después de la limpieza: 514 filas\n"
     ]
    }
   ],
   "source": [
    "df_incp=pd.read_csv(\"Data\\INCP.csv\") #Lee archivo .csv con datos del Indice Nacional de Precios al COnsumidor (MX)\n",
    "df_incp=f.renombrar_columnas(df_incp) #Elimina espacios y mayúsculas de nombres de columnas\n",
    "df_incp=f.renombrar_columnas_incp(df_incp) #Cambia nombres de columnas a nombres especificados dentro de la función\n",
    "df_incp=f.convertir_columnas_a_float(df_incp,df_incp.columns[1:].tolist())#Convierte los valores de las columnas del dataframe a float, exceptuando la primera columna de fecha\n",
    "df_incp=f.estandarizar_fechas(df_incp) #Estandariza formato de los valores en la columna fecha\n",
    "df_incp=f.limpiar_csv(df_incp)\n"
   ]
  },
  {
   "cell_type": "markdown",
   "metadata": {},
   "source": [
    "#### Importación y limpieza de datos gubernamentales en .csv de España"
   ]
  },
  {
   "cell_type": "code",
   "execution_count": 7,
   "metadata": {},
   "outputs": [
    {
     "name": "stdout",
     "output_type": "stream",
     "text": [
      "Total de valores NaN antes de la limpieza: 0\n",
      "Total de valores NaN después de eliminar filas: 0\n",
      "\n",
      "Cantidad de datos antes de la limpieza: 274 filas\n",
      "Cantidad de datos después de la limpieza: 274 filas\n"
     ]
    }
   ],
   "source": [
    "df_ipc=pd.read_csv(\"Data\\IPC.csv\") #Lee archivo .csv con datos del Indice Nacional de Precios al COnsumidor (MX)\n",
    "df_ipc=f.renombrar_columnas(df_ipc) #Elimina espacios y mayúsculas de nombres de columnas\n",
    "df_ipc=f.renombrar_columnas_icp(df_ipc) #Cambia nombres de columnas a nombres especificados dentro de la función\n",
    "df_ipc=f.convertir_columnas_a_float(df_ipc,df_ipc.columns[1:].tolist()) #Convierte los valores de las columnas del dataframe a float, exceptuando la primera columna de fecha\n",
    "df_ipc=f.estandarizar_fechas(df_ipc) #Estandariza formato de los valores en la columna fecha\n",
    "df_ipc=f.limpiar_csv(df_ipc)"
   ]
  },
  {
   "cell_type": "markdown",
   "metadata": {},
   "source": [
    "### Detección definición de límites de fechas para análisis y unión de los datos en un único dataframe"
   ]
  },
  {
   "cell_type": "code",
   "execution_count": 8,
   "metadata": {},
   "outputs": [
    {
     "name": "stdout",
     "output_type": "stream",
     "text": [
      "Fecha límite menor:2002-01-01 00:00:00 \n",
      " Fecha límite mayor: 2024-10-01 00:00:00\n"
     ]
    }
   ],
   "source": [
    "f.fechas_limite(df,df_incp,df_ipc) #Función para calcular los límites de fecha para los tres dataframe\n",
    "#Estos límites justifican la intersección de los dataframe."
   ]
  },
  {
   "cell_type": "code",
   "execution_count": 9,
   "metadata": {},
   "outputs": [
    {
     "name": "stdout",
     "output_type": "stream",
     "text": [
      "Cantidad de filas en el DataFrame 'df1' antes de la unión: 290\n",
      "Cantidad de filas en el DataFrame 'df2' antes de la unión: 514\n",
      "Cantidad de filas en el DataFrame resultante después de la unión: 290 \n",
      "\n",
      "Cantidad de filas en el DataFrame 'df1' antes de la unión: 290\n",
      "Cantidad de filas en el DataFrame 'df2' antes de la unión: 274\n",
      "Cantidad de filas en el DataFrame resultante después de la unión: 274 \n",
      "\n"
     ]
    }
   ],
   "source": [
    "df_final=f.unir_dataframes(df,df_incp,\"date\",\"inner\") #Unión de dataframe precios de commodities y datos incp\n",
    "df_final=f.unir_dataframes(df_final,df_ipc,\"date\",\"inner\") #Unicón de dataframe anterior y datos ipc"
   ]
  },
  {
   "cell_type": "code",
   "execution_count": 10,
   "metadata": {},
   "outputs": [
    {
     "name": "stdout",
     "output_type": "stream",
     "text": [
      "<class 'pandas.core.frame.DataFrame'>\n",
      "RangeIndex: 274 entries, 0 to 273\n",
      "Data columns (total 19 columns):\n",
      " #   Column                Non-Null Count  Dtype         \n",
      "---  ------                --------------  -----         \n",
      " 0   date                  274 non-null    datetime64[ns]\n",
      " 1   oro                   274 non-null    float64       \n",
      " 2   plata                 274 non-null    float64       \n",
      " 3   petroleo              274 non-null    float64       \n",
      " 4   gas_natural           274 non-null    float64       \n",
      " 5   indice_oro            274 non-null    float64       \n",
      " 6   indice_plata          274 non-null    float64       \n",
      " 7   indice_petroleo       274 non-null    float64       \n",
      " 8   indice_gas_natural    274 non-null    float64       \n",
      " 9   indice_general_mx     274 non-null    float64       \n",
      " 10  alimentos_bebidas_mx  274 non-null    float64       \n",
      " 11  vivienda_mx           274 non-null    float64       \n",
      " 12  educacion_mx          274 non-null    float64       \n",
      " 13  transporte_mx         274 non-null    float64       \n",
      " 14  indice_general_es     274 non-null    float64       \n",
      " 15  alimentos_bebidas_es  274 non-null    float64       \n",
      " 16  vivienda_es           274 non-null    float64       \n",
      " 17  educacion_es          274 non-null    float64       \n",
      " 18  transporte_es         274 non-null    float64       \n",
      "dtypes: datetime64[ns](1), float64(18)\n",
      "memory usage: 40.8 KB\n"
     ]
    }
   ],
   "source": [
    "df_final.info()"
   ]
  },
  {
   "cell_type": "markdown",
   "metadata": {},
   "source": [
    "### Obtención de datos adicionales mediante web scraping"
   ]
  },
  {
   "cell_type": "markdown",
   "metadata": {},
   "source": [
    "##### Datos sobre la cantidad de suicidios en España"
   ]
  },
  {
   "cell_type": "code",
   "execution_count": 11,
   "metadata": {},
   "outputs": [
    {
     "name": "stdout",
     "output_type": "stream",
     "text": [
      "Reporte de valores nulos antes de la limpieza:\n",
      "date        0\n",
      "sui_h_es    0\n",
      "sui_m_es    0\n",
      "sui_es      0\n",
      "dtype: int64\n",
      "\n",
      "\n",
      "\n",
      "Se eliminaron las filas con al menos un valor nulo.\n",
      "Cantidad de datos antes de la limpieza: 44 filas.\n",
      "Cantidad de datos después de la limpieza: 44 filas.\n",
      "Se eliminaron 0 filas con valores nulos.\n"
     ]
    }
   ],
   "source": [
    "df_sui_es=f.data_sui_es() # Utiliza funciones de Selenium para hacer web scraping y obtener datos de la web\n",
    "df_sui_es=f.renombrar_columnas(df_sui_es) #Estandarizacion a minúsculas, no espacios ni acentos de nombres de columnas\n",
    "df_sui_es=f.renombrar_columnas_sui_es(df_sui_es) #Cambia nombres de columnas a nombres especificados dentro de la función\n",
    "df_sui_es=f.estandarizar_fechas(df_sui_es) #Estandariza formato de los valores en la columna fecha\n",
    "df_sui_es=f.convertir_columnas_a_float(df_sui_es,df_sui_es.columns[1:].tolist()) #Convierte los valores de las columnas del dataframe a float, exceptuando la primera columna de fecha\n",
    "df_sui_es=f.limpiar_dataframe(df_sui_es) # Limpieza de los valores en el dataframe y resultados del proceso\n",
    "df_sui_es=f.convertir_a_mensual(df_sui_es)"
   ]
  },
  {
   "cell_type": "code",
   "execution_count": 12,
   "metadata": {},
   "outputs": [
    {
     "data": {
      "text/html": [
       "<div>\n",
       "<style scoped>\n",
       "    .dataframe tbody tr th:only-of-type {\n",
       "        vertical-align: middle;\n",
       "    }\n",
       "\n",
       "    .dataframe tbody tr th {\n",
       "        vertical-align: top;\n",
       "    }\n",
       "\n",
       "    .dataframe thead th {\n",
       "        text-align: right;\n",
       "    }\n",
       "</style>\n",
       "<table border=\"1\" class=\"dataframe\">\n",
       "  <thead>\n",
       "    <tr style=\"text-align: right;\">\n",
       "      <th></th>\n",
       "      <th>date</th>\n",
       "      <th>sui_h_es</th>\n",
       "      <th>sui_m_es</th>\n",
       "      <th>sui_es</th>\n",
       "    </tr>\n",
       "  </thead>\n",
       "  <tbody>\n",
       "    <tr>\n",
       "      <th>0</th>\n",
       "      <td>1980-04-01</td>\n",
       "      <td>103.083333</td>\n",
       "      <td>34.583333</td>\n",
       "      <td>137.666667</td>\n",
       "    </tr>\n",
       "    <tr>\n",
       "      <th>29</th>\n",
       "      <td>2009-08-01</td>\n",
       "      <td>222.166667</td>\n",
       "      <td>63.583333</td>\n",
       "      <td>285.750000</td>\n",
       "    </tr>\n",
       "    <tr>\n",
       "      <th>6</th>\n",
       "      <td>1986-03-01</td>\n",
       "      <td>169.333333</td>\n",
       "      <td>60.250000</td>\n",
       "      <td>229.583333</td>\n",
       "    </tr>\n",
       "    <tr>\n",
       "      <th>9</th>\n",
       "      <td>1989-10-01</td>\n",
       "      <td>184.416667</td>\n",
       "      <td>64.500000</td>\n",
       "      <td>248.916667</td>\n",
       "    </tr>\n",
       "    <tr>\n",
       "      <th>29</th>\n",
       "      <td>2009-11-01</td>\n",
       "      <td>222.166667</td>\n",
       "      <td>63.583333</td>\n",
       "      <td>285.750000</td>\n",
       "    </tr>\n",
       "    <tr>\n",
       "      <th>34</th>\n",
       "      <td>2014-10-01</td>\n",
       "      <td>244.833333</td>\n",
       "      <td>81.000000</td>\n",
       "      <td>325.833333</td>\n",
       "    </tr>\n",
       "    <tr>\n",
       "      <th>23</th>\n",
       "      <td>2003-07-01</td>\n",
       "      <td>220.833333</td>\n",
       "      <td>69.000000</td>\n",
       "      <td>289.833333</td>\n",
       "    </tr>\n",
       "    <tr>\n",
       "      <th>9</th>\n",
       "      <td>1989-01-01</td>\n",
       "      <td>184.416667</td>\n",
       "      <td>64.500000</td>\n",
       "      <td>248.916667</td>\n",
       "    </tr>\n",
       "  </tbody>\n",
       "</table>\n",
       "</div>"
      ],
      "text/plain": [
       "         date    sui_h_es   sui_m_es      sui_es\n",
       "0  1980-04-01  103.083333  34.583333  137.666667\n",
       "29 2009-08-01  222.166667  63.583333  285.750000\n",
       "6  1986-03-01  169.333333  60.250000  229.583333\n",
       "9  1989-10-01  184.416667  64.500000  248.916667\n",
       "29 2009-11-01  222.166667  63.583333  285.750000\n",
       "34 2014-10-01  244.833333  81.000000  325.833333\n",
       "23 2003-07-01  220.833333  69.000000  289.833333\n",
       "9  1989-01-01  184.416667  64.500000  248.916667"
      ]
     },
     "execution_count": 12,
     "metadata": {},
     "output_type": "execute_result"
    }
   ],
   "source": [
    "df_sui_es.sample(8)"
   ]
  },
  {
   "cell_type": "markdown",
   "metadata": {},
   "source": [
    "##### Datos sobre la cantidad de suicidios en México"
   ]
  },
  {
   "cell_type": "code",
   "execution_count": 13,
   "metadata": {},
   "outputs": [],
   "source": [
    "df_sui_mx=f.data_sui_mx()"
   ]
  },
  {
   "cell_type": "code",
   "execution_count": 14,
   "metadata": {},
   "outputs": [
    {
     "name": "stdout",
     "output_type": "stream",
     "text": [
      "Reporte de valores nulos antes de la limpieza:\n",
      "date        0\n",
      "sui_m_mx    0\n",
      "sui_h_mx    0\n",
      "sui_mx      0\n",
      "dtype: int64\n",
      "\n",
      "\n",
      "\n",
      "Se eliminaron las filas con al menos un valor nulo.\n",
      "Cantidad de datos antes de la limpieza: 48 filas.\n",
      "Cantidad de datos después de la limpieza: 48 filas.\n",
      "Se eliminaron 0 filas con valores nulos.\n"
     ]
    }
   ],
   "source": [
    "df_sui_mx=f.renombrar_columnas(df_sui_mx) #Estandarizacion a minúsculas, no espacios ni acentos de nombres de columnas\n",
    "df_sui_mx=f.renombrar_columnas_sui_mx(df_sui_mx) #Cambia nombres de columnas a nombres especificados dentro de la función\n",
    "df_sui_mx=f.eliminar_columnas(df_sui_mx,df_sui_mx.columns[4:].tolist()) #Esta función elimina columnas de un dataframe\n",
    "df_sui_mx=f.estandarizar_fechas(df_sui_mx) #Estandariza formato de los valores en la columna fecha\n",
    "df_sui_mx=f.eliminar_puntos(df_sui_mx,df_sui_mx.columns[1:].tolist())\n",
    "df_sui_mx=f.convertir_columnas_a_float(df_sui_mx,df_sui_mx.columns[1:].tolist()) #Convierte los valores de las columnas del dataframe a float, exceptuando la primera columna de fecha\n",
    "df_sui_mx=f.limpiar_dataframe(df_sui_mx) # Limpieza de los valores en el dataframe y resultados del proceso\n",
    "df_sui_mx=f.convertir_a_mensual(df_sui_mx)"
   ]
  },
  {
   "cell_type": "markdown",
   "metadata": {},
   "source": [
    "### Unión de dataframes de datos de suicidios en España y México"
   ]
  },
  {
   "cell_type": "code",
   "execution_count": 15,
   "metadata": {},
   "outputs": [
    {
     "name": "stdout",
     "output_type": "stream",
     "text": [
      "Cantidad de filas en el DataFrame 'df1' antes de la unión: 528\n",
      "Cantidad de filas en el DataFrame 'df2' antes de la unión: 576\n",
      "Cantidad de filas en el DataFrame resultante después de la unión: 504 \n",
      "\n"
     ]
    }
   ],
   "source": [
    "df_sui=f.unir_dataframes(df_sui_es,df_sui_mx,\"date\",\"inner\")"
   ]
  },
  {
   "cell_type": "markdown",
   "metadata": {},
   "source": [
    "### Unión de dataframes de commodities y suicidios"
   ]
  },
  {
   "cell_type": "code",
   "execution_count": 16,
   "metadata": {},
   "outputs": [
    {
     "name": "stdout",
     "output_type": "stream",
     "text": [
      "Cantidad de filas en el DataFrame 'df1' antes de la unión: 274\n",
      "Cantidad de filas en el DataFrame 'df2' antes de la unión: 504\n",
      "Cantidad de filas en el DataFrame resultante después de la unión: 274 \n",
      "\n"
     ]
    }
   ],
   "source": [
    "df_final=f.unir_dataframes(df_final,df_sui,\"date\",\"left\")"
   ]
  },
  {
   "cell_type": "code",
   "execution_count": 20,
   "metadata": {},
   "outputs": [
    {
     "data": {
      "text/html": [
       "<div>\n",
       "<style scoped>\n",
       "    .dataframe tbody tr th:only-of-type {\n",
       "        vertical-align: middle;\n",
       "    }\n",
       "\n",
       "    .dataframe tbody tr th {\n",
       "        vertical-align: top;\n",
       "    }\n",
       "\n",
       "    .dataframe thead th {\n",
       "        text-align: right;\n",
       "    }\n",
       "</style>\n",
       "<table border=\"1\" class=\"dataframe\">\n",
       "  <thead>\n",
       "    <tr style=\"text-align: right;\">\n",
       "      <th></th>\n",
       "      <th>date</th>\n",
       "      <th>oro</th>\n",
       "      <th>plata</th>\n",
       "      <th>petroleo</th>\n",
       "      <th>gas_natural</th>\n",
       "      <th>indice_oro</th>\n",
       "      <th>indice_plata</th>\n",
       "      <th>indice_petroleo</th>\n",
       "      <th>indice_gas_natural</th>\n",
       "      <th>indice_general_mx</th>\n",
       "      <th>...</th>\n",
       "      <th>alimentos_bebidas_es</th>\n",
       "      <th>vivienda_es</th>\n",
       "      <th>educacion_es</th>\n",
       "      <th>transporte_es</th>\n",
       "      <th>sui_h_es</th>\n",
       "      <th>sui_m_es</th>\n",
       "      <th>sui_es</th>\n",
       "      <th>sui_m_mx</th>\n",
       "      <th>sui_h_mx</th>\n",
       "      <th>sui_mx</th>\n",
       "    </tr>\n",
       "  </thead>\n",
       "  <tbody>\n",
       "    <tr>\n",
       "      <th>107</th>\n",
       "      <td>2010-12-01</td>\n",
       "      <td>1421.1</td>\n",
       "      <td>30.91</td>\n",
       "      <td>91.38</td>\n",
       "      <td>4.41</td>\n",
       "      <td>114.540179</td>\n",
       "      <td>186.541943</td>\n",
       "      <td>198.479583</td>\n",
       "      <td>145.065789</td>\n",
       "      <td>74.93</td>\n",
       "      <td>...</td>\n",
       "      <td>84.95</td>\n",
       "      <td>84.55</td>\n",
       "      <td>81.80</td>\n",
       "      <td>87.50</td>\n",
       "      <td>205.666667</td>\n",
       "      <td>57.500000</td>\n",
       "      <td>263.166667</td>\n",
       "      <td>75.25</td>\n",
       "      <td>333.000000</td>\n",
       "      <td>417.666667</td>\n",
       "    </tr>\n",
       "    <tr>\n",
       "      <th>270</th>\n",
       "      <td>2024-07-01</td>\n",
       "      <td>2426.5</td>\n",
       "      <td>28.78</td>\n",
       "      <td>77.91</td>\n",
       "      <td>2.04</td>\n",
       "      <td>195.575079</td>\n",
       "      <td>173.687387</td>\n",
       "      <td>169.222415</td>\n",
       "      <td>67.105263</td>\n",
       "      <td>136.00</td>\n",
       "      <td>...</td>\n",
       "      <td>129.06</td>\n",
       "      <td>106.05</td>\n",
       "      <td>105.38</td>\n",
       "      <td>113.44</td>\n",
       "      <td>NaN</td>\n",
       "      <td>NaN</td>\n",
       "      <td>NaN</td>\n",
       "      <td>NaN</td>\n",
       "      <td>NaN</td>\n",
       "      <td>NaN</td>\n",
       "    </tr>\n",
       "    <tr>\n",
       "      <th>34</th>\n",
       "      <td>2004-11-01</td>\n",
       "      <td>451.3</td>\n",
       "      <td>7.72</td>\n",
       "      <td>49.13</td>\n",
       "      <td>7.62</td>\n",
       "      <td>36.374627</td>\n",
       "      <td>46.590223</td>\n",
       "      <td>106.711555</td>\n",
       "      <td>250.657895</td>\n",
       "      <td>58.19</td>\n",
       "      <td>...</td>\n",
       "      <td>73.44</td>\n",
       "      <td>64.37</td>\n",
       "      <td>66.17</td>\n",
       "      <td>71.43</td>\n",
       "      <td>220.916667</td>\n",
       "      <td>71.333333</td>\n",
       "      <td>292.250000</td>\n",
       "      <td>56.50</td>\n",
       "      <td>284.500000</td>\n",
       "      <td>343.083333</td>\n",
       "    </tr>\n",
       "    <tr>\n",
       "      <th>88</th>\n",
       "      <td>2009-05-01</td>\n",
       "      <td>978.8</td>\n",
       "      <td>15.60</td>\n",
       "      <td>66.31</td>\n",
       "      <td>3.84</td>\n",
       "      <td>78.890949</td>\n",
       "      <td>94.146047</td>\n",
       "      <td>144.026933</td>\n",
       "      <td>126.315789</td>\n",
       "      <td>70.05</td>\n",
       "      <td>...</td>\n",
       "      <td>84.70</td>\n",
       "      <td>78.88</td>\n",
       "      <td>78.03</td>\n",
       "      <td>78.22</td>\n",
       "      <td>222.166667</td>\n",
       "      <td>63.583333</td>\n",
       "      <td>285.750000</td>\n",
       "      <td>81.00</td>\n",
       "      <td>340.583333</td>\n",
       "      <td>432.500000</td>\n",
       "    </tr>\n",
       "    <tr>\n",
       "      <th>4</th>\n",
       "      <td>2002-05-01</td>\n",
       "      <td>326.5</td>\n",
       "      <td>5.03</td>\n",
       "      <td>25.35</td>\n",
       "      <td>3.22</td>\n",
       "      <td>26.315789</td>\n",
       "      <td>30.356065</td>\n",
       "      <td>55.060817</td>\n",
       "      <td>105.921053</td>\n",
       "      <td>51.51</td>\n",
       "      <td>...</td>\n",
       "      <td>66.90</td>\n",
       "      <td>59.32</td>\n",
       "      <td>58.56</td>\n",
       "      <td>66.19</td>\n",
       "      <td>212.833333</td>\n",
       "      <td>68.083333</td>\n",
       "      <td>280.916667</td>\n",
       "      <td>54.75</td>\n",
       "      <td>265.750000</td>\n",
       "      <td>322.583333</td>\n",
       "    </tr>\n",
       "    <tr>\n",
       "      <th>102</th>\n",
       "      <td>2010-07-01</td>\n",
       "      <td>1181.7</td>\n",
       "      <td>17.99</td>\n",
       "      <td>78.95</td>\n",
       "      <td>4.92</td>\n",
       "      <td>95.244620</td>\n",
       "      <td>108.569704</td>\n",
       "      <td>171.481321</td>\n",
       "      <td>161.842105</td>\n",
       "      <td>72.93</td>\n",
       "      <td>...</td>\n",
       "      <td>83.90</td>\n",
       "      <td>82.82</td>\n",
       "      <td>80.06</td>\n",
       "      <td>84.81</td>\n",
       "      <td>205.666667</td>\n",
       "      <td>57.500000</td>\n",
       "      <td>263.166667</td>\n",
       "      <td>75.25</td>\n",
       "      <td>333.000000</td>\n",
       "      <td>417.666667</td>\n",
       "    </tr>\n",
       "    <tr>\n",
       "      <th>90</th>\n",
       "      <td>2009-07-01</td>\n",
       "      <td>953.7</td>\n",
       "      <td>13.93</td>\n",
       "      <td>69.45</td>\n",
       "      <td>3.65</td>\n",
       "      <td>76.867897</td>\n",
       "      <td>84.067592</td>\n",
       "      <td>150.847089</td>\n",
       "      <td>120.065789</td>\n",
       "      <td>70.37</td>\n",
       "      <td>...</td>\n",
       "      <td>84.18</td>\n",
       "      <td>79.44</td>\n",
       "      <td>78.06</td>\n",
       "      <td>79.87</td>\n",
       "      <td>222.166667</td>\n",
       "      <td>63.583333</td>\n",
       "      <td>285.750000</td>\n",
       "      <td>81.00</td>\n",
       "      <td>340.583333</td>\n",
       "      <td>432.500000</td>\n",
       "    </tr>\n",
       "    <tr>\n",
       "      <th>24</th>\n",
       "      <td>2004-01-01</td>\n",
       "      <td>402.2</td>\n",
       "      <td>6.25</td>\n",
       "      <td>33.05</td>\n",
       "      <td>5.40</td>\n",
       "      <td>32.417184</td>\n",
       "      <td>37.718769</td>\n",
       "      <td>71.785404</td>\n",
       "      <td>177.631579</td>\n",
       "      <td>55.77</td>\n",
       "      <td>...</td>\n",
       "      <td>71.83</td>\n",
       "      <td>62.16</td>\n",
       "      <td>63.76</td>\n",
       "      <td>66.99</td>\n",
       "      <td>220.916667</td>\n",
       "      <td>71.333333</td>\n",
       "      <td>292.250000</td>\n",
       "      <td>56.50</td>\n",
       "      <td>284.500000</td>\n",
       "      <td>343.083333</td>\n",
       "    </tr>\n",
       "  </tbody>\n",
       "</table>\n",
       "<p>8 rows × 25 columns</p>\n",
       "</div>"
      ],
      "text/plain": [
       "          date     oro  plata  petroleo  gas_natural  indice_oro  \\\n",
       "107 2010-12-01  1421.1  30.91     91.38         4.41  114.540179   \n",
       "270 2024-07-01  2426.5  28.78     77.91         2.04  195.575079   \n",
       "34  2004-11-01   451.3   7.72     49.13         7.62   36.374627   \n",
       "88  2009-05-01   978.8  15.60     66.31         3.84   78.890949   \n",
       "4   2002-05-01   326.5   5.03     25.35         3.22   26.315789   \n",
       "102 2010-07-01  1181.7  17.99     78.95         4.92   95.244620   \n",
       "90  2009-07-01   953.7  13.93     69.45         3.65   76.867897   \n",
       "24  2004-01-01   402.2   6.25     33.05         5.40   32.417184   \n",
       "\n",
       "     indice_plata  indice_petroleo  indice_gas_natural  indice_general_mx  \\\n",
       "107    186.541943       198.479583          145.065789              74.93   \n",
       "270    173.687387       169.222415           67.105263             136.00   \n",
       "34      46.590223       106.711555          250.657895              58.19   \n",
       "88      94.146047       144.026933          126.315789              70.05   \n",
       "4       30.356065        55.060817          105.921053              51.51   \n",
       "102    108.569704       171.481321          161.842105              72.93   \n",
       "90      84.067592       150.847089          120.065789              70.37   \n",
       "24      37.718769        71.785404          177.631579              55.77   \n",
       "\n",
       "     ...  alimentos_bebidas_es  vivienda_es  educacion_es  transporte_es  \\\n",
       "107  ...                 84.95        84.55         81.80          87.50   \n",
       "270  ...                129.06       106.05        105.38         113.44   \n",
       "34   ...                 73.44        64.37         66.17          71.43   \n",
       "88   ...                 84.70        78.88         78.03          78.22   \n",
       "4    ...                 66.90        59.32         58.56          66.19   \n",
       "102  ...                 83.90        82.82         80.06          84.81   \n",
       "90   ...                 84.18        79.44         78.06          79.87   \n",
       "24   ...                 71.83        62.16         63.76          66.99   \n",
       "\n",
       "       sui_h_es   sui_m_es      sui_es  sui_m_mx    sui_h_mx      sui_mx  \n",
       "107  205.666667  57.500000  263.166667     75.25  333.000000  417.666667  \n",
       "270         NaN        NaN         NaN       NaN         NaN         NaN  \n",
       "34   220.916667  71.333333  292.250000     56.50  284.500000  343.083333  \n",
       "88   222.166667  63.583333  285.750000     81.00  340.583333  432.500000  \n",
       "4    212.833333  68.083333  280.916667     54.75  265.750000  322.583333  \n",
       "102  205.666667  57.500000  263.166667     75.25  333.000000  417.666667  \n",
       "90   222.166667  63.583333  285.750000     81.00  340.583333  432.500000  \n",
       "24   220.916667  71.333333  292.250000     56.50  284.500000  343.083333  \n",
       "\n",
       "[8 rows x 25 columns]"
      ]
     },
     "execution_count": 20,
     "metadata": {},
     "output_type": "execute_result"
    }
   ],
   "source": [
    "df_final.sample(8)"
   ]
  },
  {
   "cell_type": "markdown",
   "metadata": {},
   "source": [
    "### Creación de archivo .csv del dataframe final"
   ]
  },
  {
   "cell_type": "code",
   "execution_count": 21,
   "metadata": {},
   "outputs": [],
   "source": [
    "df_final.to_csv('df_final.csv', index=False)"
   ]
  },
  {
   "cell_type": "markdown",
   "metadata": {},
   "source": [
    "# Fuentes"
   ]
  },
  {
   "cell_type": "markdown",
   "metadata": {},
   "source": [
    "https://www.banxico.org.mx/SieInternet/consultarDirectorioInternetAction.do?sector=8&accion=consultarCuadro&idCuadro=CP154&locale=es\n",
    "\n",
    "https://www.inegi.org.mx/temas/inpc/\n",
    "\n",
    "https://www.ine.es/jaxiT3/Datos.htm?t=50902#_tabs-tabla\n",
    "\n",
    "https://algotrading101.com/learn/yfinance-guide/\n",
    "\n",
    "https://es.wikipedia.org/wiki/Suicidio_en_Espa%C3%B1a"
   ]
  }
 ],
 "metadata": {
  "kernelspec": {
   "display_name": "en_p1",
   "language": "python",
   "name": "python3"
  },
  "language_info": {
   "codemirror_mode": {
    "name": "ipython",
    "version": 3
   },
   "file_extension": ".py",
   "mimetype": "text/x-python",
   "name": "python",
   "nbconvert_exporter": "python",
   "pygments_lexer": "ipython3",
   "version": "3.11.10"
  }
 },
 "nbformat": 4,
 "nbformat_minor": 2
}
