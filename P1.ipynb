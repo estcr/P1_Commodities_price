{
 "cells": [
  {
   "cell_type": "markdown",
   "metadata": {},
   "source": [
    "## Recuperación y limpieza de datos. Construcción de dataframe general.\n",
    "#### En este notbook se muestra el proceso de construcción del dataframe, desde la obtención de datos de diferentes fuentes, la limpieza y estandarización de información, y la integración de dataframes."
   ]
  },
  {
   "cell_type": "code",
   "execution_count": 1,
   "metadata": {},
   "outputs": [],
   "source": [
    "#Importación de funciones y librerías requeridas\n",
    "import p1_functions as f\n",
    "import pandas as pd"
   ]
  },
  {
   "cell_type": "code",
   "execution_count": 2,
   "metadata": {},
   "outputs": [],
   "source": [
    "#Obteción de información sobre precios de commodities mediante API de Yahoo finance\n",
    "df=f.comm_price_df() #Construcción de dataframe mediante el llamado a la función commodities price dataframe: comm_price_df()"
   ]
  },
  {
   "cell_type": "code",
   "execution_count": 3,
   "metadata": {},
   "outputs": [
    {
     "name": "stdout",
     "output_type": "stream",
     "text": [
      "Reporte de valores nulos antes de la limpieza:\n",
      "date           0\n",
      "oro            0\n",
      "plata          0\n",
      "petroleo       0\n",
      "gas_natural    0\n",
      "dtype: int64\n",
      "\n",
      "\n",
      "\n",
      "Se eliminaron las filas con al menos un valor nulo.\n",
      "Cantidad de datos antes de la limpieza: 290 filas.\n",
      "Cantidad de datos después de la limpieza: 290 filas.\n",
      "Se eliminaron 0 filas con valores nulos.\n"
     ]
    }
   ],
   "source": [
    "df=f.renombrar_columnas(df) #Estandarizacion a minúsculas, no espacios ni acentos de nombres de columnas\n",
    "df=f.estandarizar_fechas(df) #Estandarización del formato de fecha\n",
    "df=f.convertir_columnas_a_float(df,df.columns[1:].tolist()) #Convierte los valores de las columnas del dataframe a float, exceptuando la primera columna de fecha\n",
    "df=f.completar_columnas_interpolacion(df)\n",
    "df=f.limpiar_dataframe(df) # Limpieza de los valores en el dataframe y resultados del proceso"
   ]
  },
  {
   "cell_type": "code",
   "execution_count": 4,
   "metadata": {},
   "outputs": [],
   "source": [
    "df=f.indices_precios_comm(df) #Cálculo y adición de columnas para índicies de los precios de los commodities"
   ]
  },
  {
   "cell_type": "markdown",
   "metadata": {},
   "source": [
    "#### Importanción y limpieza de datos gubernamentales en .csv de México"
   ]
  },
  {
   "cell_type": "code",
   "execution_count": 6,
   "metadata": {},
   "outputs": [
    {
     "name": "stdout",
     "output_type": "stream",
     "text": [
      "Total de valores NaN antes de la limpieza: 576\n",
      "Total de valores NaN después de eliminar filas: 0\n",
      "\n",
      "Cantidad de datos antes de la limpieza: 658 filas\n",
      "Cantidad de datos después de la limpieza: 514 filas\n"
     ]
    }
   ],
   "source": [
    "df_incp=pd.read_csv(\"Data\\INCP.csv\") #Lee archivo .csv con datos del Indice Nacional de Precios al COnsumidor (MX)\n",
    "df_incp=f.renombrar_columnas(df_incp) #Elimina espacios y mayúsculas de nombres de columnas\n",
    "df_incp=f.renombrar_columnas_incp(df_incp) #Cambia nombres de columnas a nombres especificados dentro de la función\n",
    "df_incp=f.convertir_columnas_a_float(df_incp,df_incp.columns[1:].tolist())#Convierte los valores de las columnas del dataframe a float, exceptuando la primera columna de fecha\n",
    "df_incp=f.estandarizar_fechas(df_incp) #Estandariza formato de los valores en la columna fecha\n",
    "df_incp=f.limpiar_csv(df_incp)\n"
   ]
  },
  {
   "cell_type": "markdown",
   "metadata": {},
   "source": [
    "#### Importación y limpieza de datos gubernamentales en .csv de España"
   ]
  },
  {
   "cell_type": "code",
   "execution_count": 7,
   "metadata": {},
   "outputs": [
    {
     "name": "stdout",
     "output_type": "stream",
     "text": [
      "Total de valores NaN antes de la limpieza: 0\n",
      "Total de valores NaN después de eliminar filas: 0\n",
      "\n",
      "Cantidad de datos antes de la limpieza: 274 filas\n",
      "Cantidad de datos después de la limpieza: 274 filas\n"
     ]
    }
   ],
   "source": [
    "df_ipc=pd.read_csv(\"Data\\IPC.csv\") #Lee archivo .csv con datos del Indice Nacional de Precios al COnsumidor (MX)\n",
    "df_ipc=f.renombrar_columnas(df_ipc) #Elimina espacios y mayúsculas de nombres de columnas\n",
    "df_ipc=f.renombrar_columnas_icp(df_ipc) #Cambia nombres de columnas a nombres especificados dentro de la función\n",
    "df_ipc=f.convertir_columnas_a_float(df_ipc,df_ipc.columns[1:].tolist()) #Convierte los valores de las columnas del dataframe a float, exceptuando la primera columna de fecha\n",
    "df_ipc=f.estandarizar_fechas(df_ipc) #Estandariza formato de los valores en la columna fecha\n",
    "df_ipc=f.limpiar_csv(df_ipc)"
   ]
  },
  {
   "cell_type": "markdown",
   "metadata": {},
   "source": [
    "### Detección definición de límites de fechas para análisis y unión de los datos en un único dataframe"
   ]
  },
  {
   "cell_type": "code",
   "execution_count": 8,
   "metadata": {},
   "outputs": [
    {
     "name": "stdout",
     "output_type": "stream",
     "text": [
      "Fecha límite menor:2002-01-01 00:00:00 \n",
      " Fecha límite mayor: 2024-10-01 00:00:00\n"
     ]
    }
   ],
   "source": [
    "f.fechas_limite(df,df_incp,df_ipc) #Función para calcular los límites de fecha para los tres dataframe\n",
    "#Estos límites justifican la intersección de los dataframe."
   ]
  },
  {
   "cell_type": "code",
   "execution_count": 9,
   "metadata": {},
   "outputs": [
    {
     "name": "stdout",
     "output_type": "stream",
     "text": [
      "Cantidad de filas en el DataFrame 'df1' antes de la unión: 290\n",
      "Cantidad de filas en el DataFrame 'df2' antes de la unión: 514\n",
      "Cantidad de filas en el DataFrame resultante después de la unión: 290 \n",
      "\n",
      "Cantidad de filas en el DataFrame 'df1' antes de la unión: 290\n",
      "Cantidad de filas en el DataFrame 'df2' antes de la unión: 274\n",
      "Cantidad de filas en el DataFrame resultante después de la unión: 274 \n",
      "\n"
     ]
    }
   ],
   "source": [
    "df_final=f.unir_dataframes(df,df_incp,\"date\",\"inner\") #Unión de dataframe precios de commodities y datos incp\n",
    "df_final=f.unir_dataframes(df_final,df_ipc,\"date\",\"inner\") #Unicón de dataframe anterior y datos ipc"
   ]
  },
  {
   "cell_type": "markdown",
   "metadata": {},
   "source": [
    "### Obtención de datos adicionales mediante web scraping"
   ]
  },
  {
   "cell_type": "markdown",
   "metadata": {},
   "source": [
    "##### Datos sobre la cantidad de suicidios en España"
   ]
  },
  {
   "cell_type": "code",
   "execution_count": 11,
   "metadata": {},
   "outputs": [
    {
     "name": "stdout",
     "output_type": "stream",
     "text": [
      "Reporte de valores nulos antes de la limpieza:\n",
      "date        0\n",
      "sui_h_es    0\n",
      "sui_m_es    0\n",
      "sui_es      0\n",
      "dtype: int64\n",
      "\n",
      "\n",
      "\n",
      "Se eliminaron las filas con al menos un valor nulo.\n",
      "Cantidad de datos antes de la limpieza: 44 filas.\n",
      "Cantidad de datos después de la limpieza: 44 filas.\n",
      "Se eliminaron 0 filas con valores nulos.\n"
     ]
    }
   ],
   "source": [
    "df_sui_es=f.data_sui_es() # Utiliza funciones de Selenium para hacer web scraping y obtener datos de la web\n",
    "df_sui_es=f.renombrar_columnas(df_sui_es) #Estandarizacion a minúsculas, no espacios ni acentos de nombres de columnas\n",
    "df_sui_es=f.renombrar_columnas_sui_es(df_sui_es) #Cambia nombres de columnas a nombres especificados dentro de la función\n",
    "df_sui_es=f.estandarizar_fechas(df_sui_es) #Estandariza formato de los valores en la columna fecha\n",
    "df_sui_es=f.convertir_columnas_a_float(df_sui_es,df_sui_es.columns[1:].tolist()) #Convierte los valores de las columnas del dataframe a float, exceptuando la primera columna de fecha\n",
    "df_sui_es=f.limpiar_dataframe(df_sui_es) # Limpieza de los valores en el dataframe y resultados del proceso\n",
    "df_sui_es=f.convertir_a_mensual(df_sui_es)"
   ]
  },
  {
   "cell_type": "markdown",
   "metadata": {},
   "source": [
    "##### Datos sobre la cantidad de suicidios en México"
   ]
  },
  {
   "cell_type": "code",
   "execution_count": 13,
   "metadata": {},
   "outputs": [],
   "source": [
    "df_sui_mx=f.data_sui_mx()"
   ]
  },
  {
   "cell_type": "code",
   "execution_count": 14,
   "metadata": {},
   "outputs": [
    {
     "name": "stdout",
     "output_type": "stream",
     "text": [
      "Reporte de valores nulos antes de la limpieza:\n",
      "date        0\n",
      "sui_m_mx    0\n",
      "sui_h_mx    0\n",
      "sui_mx      0\n",
      "dtype: int64\n",
      "\n",
      "\n",
      "\n",
      "Se eliminaron las filas con al menos un valor nulo.\n",
      "Cantidad de datos antes de la limpieza: 48 filas.\n",
      "Cantidad de datos después de la limpieza: 48 filas.\n",
      "Se eliminaron 0 filas con valores nulos.\n"
     ]
    }
   ],
   "source": [
    "df_sui_mx=f.renombrar_columnas(df_sui_mx) #Estandarizacion a minúsculas, no espacios ni acentos de nombres de columnas\n",
    "df_sui_mx=f.renombrar_columnas_sui_mx(df_sui_mx) #Cambia nombres de columnas a nombres especificados dentro de la función\n",
    "df_sui_mx=f.eliminar_columnas(df_sui_mx,df_sui_mx.columns[4:].tolist()) #Esta función elimina columnas de un dataframe\n",
    "df_sui_mx=f.estandarizar_fechas(df_sui_mx) #Estandariza formato de los valores en la columna fecha\n",
    "df_sui_mx=f.eliminar_puntos(df_sui_mx,df_sui_mx.columns[1:].tolist())\n",
    "df_sui_mx=f.convertir_columnas_a_float(df_sui_mx,df_sui_mx.columns[1:].tolist()) #Convierte los valores de las columnas del dataframe a float, exceptuando la primera columna de fecha\n",
    "df_sui_mx=f.limpiar_dataframe(df_sui_mx) # Limpieza de los valores en el dataframe y resultados del proceso\n",
    "df_sui_mx=f.convertir_a_mensual(df_sui_mx)"
   ]
  },
  {
   "cell_type": "markdown",
   "metadata": {},
   "source": [
    "### Unión de dataframes de datos de suicidios en España y México"
   ]
  },
  {
   "cell_type": "code",
   "execution_count": 15,
   "metadata": {},
   "outputs": [
    {
     "name": "stdout",
     "output_type": "stream",
     "text": [
      "Cantidad de filas en el DataFrame 'df1' antes de la unión: 528\n",
      "Cantidad de filas en el DataFrame 'df2' antes de la unión: 576\n",
      "Cantidad de filas en el DataFrame resultante después de la unión: 504 \n",
      "\n"
     ]
    }
   ],
   "source": [
    "df_sui=f.unir_dataframes(df_sui_es,df_sui_mx,\"date\",\"inner\")"
   ]
  },
  {
   "cell_type": "markdown",
   "metadata": {},
   "source": [
    "### Unión de dataframes de commodities y suicidios"
   ]
  },
  {
   "cell_type": "code",
   "execution_count": 16,
   "metadata": {},
   "outputs": [
    {
     "name": "stdout",
     "output_type": "stream",
     "text": [
      "Cantidad de filas en el DataFrame 'df1' antes de la unión: 274\n",
      "Cantidad de filas en el DataFrame 'df2' antes de la unión: 504\n",
      "Cantidad de filas en el DataFrame resultante después de la unión: 274 \n",
      "\n"
     ]
    }
   ],
   "source": [
    "df_final=f.unir_dataframes(df_final,df_sui,\"date\",\"left\")"
   ]
  },
  {
   "cell_type": "markdown",
   "metadata": {},
   "source": [
    "### Creación de archivo .csv del dataframe final"
   ]
  },
  {
   "cell_type": "code",
   "execution_count": 21,
   "metadata": {},
   "outputs": [],
   "source": [
    "df_final.to_csv('df_final.csv', index=False)"
   ]
  },
  {
   "cell_type": "markdown",
   "metadata": {},
   "source": [
    "# Referencias"
   ]
  },
  {
   "cell_type": "markdown",
   "metadata": {},
   "source": [
    "Banco de México. (n.d.). Cuadro de precios al consumidor (CP154). Banco de México. Recuperado de https://www.banxico.org.mx/SieInternet/consultarDirectorioInternetAction.do?sector=8&accion=consultarCuadro&idCuadro=CP154&locale=es\n",
    "\n",
    "Instituto Nacional de Estadística y Geografía (INEGI). (n.d.). Índice Nacional de Precios al Consumidor (INPC). INEGI. Recuperado de https://www.inegi.org.mx/temas/inpc/\n",
    "\n",
    "Instituto Nacional de Estadística (INE). (n.d.). Índice de Precios de Consumo (IPC). INE. Recuperado de https://www.ine.es/jaxiT3/Datos.htm?t=50902#_tabs-tabla\n",
    "\n",
    "AlgoTrading101. (2021). Guía completa de yFinance: aprende a usar la API de Yahoo Finance. Recuperado de https://algotrading101.com/learn/yfinance-guide/\n",
    "\n",
    "Wikipedia. (2024). Suicidio en España. Wikipedia. Recuperado de https://es.wikipedia.org/wiki/Suicidio_en_Espa%C3%B1a\n",
    "\n",
    "Universidad Europea. (n.d.). ¿Qué son los commodities? Universidad Europea. Recuperado de https://universidadeuropea.com/blog/que-son-los-commodities/\n",
    "\n",
    "Instituto Nacional de Estadística (INE). (2024). El Índice de Precios de Consumo (IPC). INE. Recuperado de https://www.ine.es/prensa/ipc_prensa.htm#:~:text=El%20%C3%8Dndice%20de%20Precios%20de,en%20viviendas%20familiares%20en%20Espa%C3%B1a."
   ]
  }
 ],
 "metadata": {
  "kernelspec": {
   "display_name": "en_p1",
   "language": "python",
   "name": "python3"
  },
  "language_info": {
   "codemirror_mode": {
    "name": "ipython",
    "version": 3
   },
   "file_extension": ".py",
   "mimetype": "text/x-python",
   "name": "python",
   "nbconvert_exporter": "python",
   "pygments_lexer": "ipython3",
   "version": "3.11.10"
  }
 },
 "nbformat": 4,
 "nbformat_minor": 2
}
